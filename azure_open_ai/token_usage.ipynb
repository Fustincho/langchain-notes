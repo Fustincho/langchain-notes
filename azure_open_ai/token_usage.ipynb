{
 "cells": [
  {
   "cell_type": "markdown",
   "metadata": {},
   "source": [
    "# Tracking Token Usage and Costs"
   ]
  },
  {
   "cell_type": "code",
   "execution_count": 1,
   "metadata": {},
   "outputs": [
    {
     "name": "stdout",
     "output_type": "stream",
     "text": [
      "langchain                 0.2.5\n",
      "langchain-community       0.2.5\n",
      "langchain-core            0.2.7\n",
      "langchain-openai          0.1.8\n",
      "langchain-text-splitters  0.2.1\n",
      "langchainhub              0.1.20\n"
     ]
    }
   ],
   "source": [
    "# Version log\n",
    "! pip list | grep langchain"
   ]
  },
  {
   "cell_type": "markdown",
   "metadata": {},
   "source": [
    "## Models setup\n",
    "\n",
    "Here initialize three chat models powered by `gpt-35-turbo`, `gpt-4`, and `gpt-4o`."
   ]
  },
  {
   "cell_type": "code",
   "execution_count": 2,
   "metadata": {},
   "outputs": [],
   "source": [
    "from os import environ\n",
    "from dotenv import dotenv_values\n",
    "from langchain_openai import AzureChatOpenAI\n",
    "\n",
    "config = dotenv_values(\".env\") \n",
    "environ['AZURE_OPENAI_ENDPOINT'] = config['AZURE_OPENAI_ENDPOINT']\n",
    "environ['AZURE_OPENAI_API_KEY'] = config['AZURE_OPENAI_API_KEY']\n",
    "\n",
    "gpt3_5 = AzureChatOpenAI(\n",
    "    openai_api_version=\"2024-02-01\",\n",
    "    azure_deployment=config['GPT_3_5_DEPLOYMENT_NAME']\n",
    ")\n",
    "\n",
    "gpt4 =  AzureChatOpenAI(\n",
    "    openai_api_version=\"2024-02-01\",\n",
    "    azure_deployment=config['GPT_4_DEPLOYMENT_NAME']\n",
    ")\n",
    "\n",
    "gpt4_o =  AzureChatOpenAI(\n",
    "    openai_api_version=\"2024-02-01\",\n",
    "    azure_deployment=config['GPT_4o_DEPLOYMENT_NAME']\n",
    ")"
   ]
  },
  {
   "cell_type": "markdown",
   "metadata": {},
   "source": [
    "## Using the `AIMessage.usage_metadata`"
   ]
  },
  {
   "cell_type": "code",
   "execution_count": 3,
   "metadata": {},
   "outputs": [],
   "source": [
    "response = gpt3_5.invoke(\"Finish this poem: I met a traveller from an antique land who said\")"
   ]
  },
  {
   "cell_type": "code",
   "execution_count": 4,
   "metadata": {},
   "outputs": [
    {
     "data": {
      "text/plain": [
       "{'content': '\"Two vast and trunkless legs of stone  \\nStand in the desert. Near them, on the sand,  \\nHalf sunk, a shattered visage lies, whose frown,  \\nAnd wrinkled lip, and sneer of cold command,  \\nTell that its sculptor well those passions read  \\nWhich yet survive, stamped on these lifeless things,  \\nThe hand that mocked them and the heart that fed:  \\nAnd on the pedestal these words appear:  \\n\\'My name is Ozymandias, king of kings:  \\nLook on my works, ye Mighty, and despair!\\'  \\nNothing beside remains. Round the decay  \\nOf that colossal wreck, boundless and bare  \\nThe lone and level sands stretch far away.\"',\n",
       " 'additional_kwargs': {},\n",
       " 'response_metadata': {'token_usage': {'completion_tokens': 146,\n",
       "   'prompt_tokens': 22,\n",
       "   'total_tokens': 168},\n",
       "  'model_name': 'gpt-35-turbo',\n",
       "  'system_fingerprint': None,\n",
       "  'prompt_filter_results': [{'prompt_index': 0,\n",
       "    'content_filter_results': {'hate': {'filtered': False, 'severity': 'safe'},\n",
       "     'self_harm': {'filtered': False, 'severity': 'safe'},\n",
       "     'sexual': {'filtered': False, 'severity': 'safe'},\n",
       "     'violence': {'filtered': False, 'severity': 'safe'}}}],\n",
       "  'finish_reason': 'stop',\n",
       "  'logprobs': None,\n",
       "  'content_filter_results': {'hate': {'filtered': False, 'severity': 'safe'},\n",
       "   'self_harm': {'filtered': False, 'severity': 'safe'},\n",
       "   'sexual': {'filtered': False, 'severity': 'safe'},\n",
       "   'violence': {'filtered': False, 'severity': 'safe'}}},\n",
       " 'type': 'ai',\n",
       " 'name': None,\n",
       " 'id': 'run-3050268a-2ec5-4728-9009-120189bec744-0',\n",
       " 'example': False,\n",
       " 'tool_calls': [],\n",
       " 'invalid_tool_calls': [],\n",
       " 'usage_metadata': {'input_tokens': 22,\n",
       "  'output_tokens': 146,\n",
       "  'total_tokens': 168}}"
      ]
     },
     "execution_count": 4,
     "metadata": {},
     "output_type": "execute_result"
    }
   ],
   "source": [
    "response.dict()"
   ]
  },
  {
   "cell_type": "code",
   "execution_count": 5,
   "metadata": {},
   "outputs": [
    {
     "name": "stdout",
     "output_type": "stream",
     "text": [
      "gpt-35-turbo: {'input_tokens': 21, 'output_tokens': 54, 'total_tokens': 75}\n",
      "gpt-4: {'input_tokens': 20, 'output_tokens': 19, 'total_tokens': 39}\n",
      "gpt-4o-2024-05-13: {'input_tokens': 19, 'output_tokens': 86, 'total_tokens': 105}\n"
     ]
    }
   ],
   "source": [
    "for chat_model in [gpt3_5, gpt4, gpt4_o]:\n",
    "    response = chat_model.invoke(\"What's the answer to life, the universe, and everything?\")\n",
    "    print(response.response_metadata['model_name'], response.usage_metadata, sep=\": \")"
   ]
  },
  {
   "cell_type": "markdown",
   "metadata": {},
   "source": [
    "## Using `get_openai_callback`\n",
    "\n",
    "This is an OpenAI-specific callback context manager. You create a context manager like this: `with get_openai_callback() as cb:`. Anything within it will be tracked."
   ]
  },
  {
   "cell_type": "code",
   "execution_count": 6,
   "metadata": {},
   "outputs": [
    {
     "name": "stdout",
     "output_type": "stream",
     "text": [
      "MODEL NAME:  gpt-35-turbo\n",
      "RESPONSE:  hello\n",
      "Tokens Used: 16\n",
      "\tPrompt Tokens: 15\n",
      "\tCompletion Tokens: 1\n",
      "Successful Requests: 1\n",
      "Total Cost (USD): $2.45e-05\n",
      "\n",
      "MODEL NAME:  gpt-4\n",
      "RESPONSE:  hello\n",
      "Tokens Used: 15\n",
      "\tPrompt Tokens: 14\n",
      "\tCompletion Tokens: 1\n",
      "Successful Requests: 1\n",
      "Total Cost (USD): $0.00048\n",
      "\n",
      "MODEL NAME:  gpt-4o-2024-05-13\n",
      "RESPONSE:  hello\n",
      "Tokens Used: 15\n",
      "\tPrompt Tokens: 14\n",
      "\tCompletion Tokens: 1\n",
      "Successful Requests: 1\n",
      "Total Cost (USD): $8.5e-05\n",
      "\n"
     ]
    }
   ],
   "source": [
    "from langchain_community.callbacks.manager import get_openai_callback\n",
    "\n",
    "for chat_model in [gpt3_5, gpt4, gpt4_o]:\n",
    "    with get_openai_callback() as cb:\n",
    "        response = chat_model.invoke(\"Print the exact same word: hello\")\n",
    "        print('MODEL NAME: ', response.response_metadata['model_name'])\n",
    "        print('RESPONSE: ', response.content)\n",
    "        print(cb, end='\\n\\n')"
   ]
  },
  {
   "cell_type": "code",
   "execution_count": null,
   "metadata": {},
   "outputs": [],
   "source": []
  }
 ],
 "metadata": {
  "kernelspec": {
   "display_name": ".venv",
   "language": "python",
   "name": "python3"
  },
  "language_info": {
   "codemirror_mode": {
    "name": "ipython",
    "version": 3
   },
   "file_extension": ".py",
   "mimetype": "text/x-python",
   "name": "python",
   "nbconvert_exporter": "python",
   "pygments_lexer": "ipython3",
   "version": "3.12.3"
  }
 },
 "nbformat": 4,
 "nbformat_minor": 2
}
